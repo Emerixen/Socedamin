{
 "cells": [
  {
   "cell_type": "code",
   "execution_count": 1,
   "metadata": {},
   "outputs": [],
   "source": [
    "import numpy as np\n",
    "import matplotlib.pyplot as plt\n",
    "from skimage import io\n",
    "from skimage import data\n",
    "from skimage import color\n",
    "from skimage.morphology import disk\n",
    "from skimage.filters.rank import entropy\n",
    "\n",
    "image = io.imread(\"input.png\")\n",
    "greyscale_image = color.rgb2gray(image)\n",
    "\n",
    "\n",
    "fig, ax = plt.subplots(ncols=3, figsize=(12, 6), sharex=True, sharey=True)\n",
    "\n",
    "fig.colorbar(ax[0].imshow(greyscale_image, cmap=plt.cm.gray), ax=ax[0])\n",
    "ax[0].set_title('Grey image')\n",
    "\n",
    "# fig.colorbar(ax[1].imshow(entropy(greyscale_image, disk(5)), cmap=plt.cm.gray), ax=ax[1])\n",
    "# ax[1].set_title('Entropy')\n",
    "\n",
    "\n",
    "hsv_img = color.rgb2hsv(image)\n",
    "hue_img = hsv_img[:, :, 0]\n",
    "value_img = hsv_img[:, :, 2]\n",
    "# hue_threshold = 0.04\n",
    "# binary_img = hue_img > hue_threshold\n",
    "\n",
    "fig.colorbar(ax[1].imshow(hue_img, cmap='hsv'), ax=ax[1])\n",
    "ax[1].set_title('Hue channel')\n",
    "\n",
    "fig.colorbar(ax[2].imshow(value_img, cmap='hsv'), ax=ax[2])\n",
    "ax[2].set_title('Value channel')\n",
    "\n",
    "\n",
    "for a in ax:\n",
    "    a.axis('off')\n",
    "\n",
    "plt.tight_layout()\n"
   ]
  }
 ],
 "metadata": {
  "kernelspec": {
   "display_name": "Python 3",
   "language": "python",
   "name": "python3"
  },
  "language_info": {
   "codemirror_mode": {
    "name": "ipython",
    "version": 3
   },
   "file_extension": ".py",
   "mimetype": "text/x-python",
   "name": "python",
   "nbconvert_exporter": "python",
   "pygments_lexer": "ipython3",
   "version": "3.7.3"
  }
 },
 "nbformat": 4,
 "nbformat_minor": 4
}
